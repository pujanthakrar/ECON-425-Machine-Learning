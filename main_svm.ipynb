{
 "cells": [
  {
   "cell_type": "code",
   "execution_count": 4,
   "metadata": {},
   "outputs": [
    {
     "name": "stdout",
     "output_type": "stream",
     "text": [
      "[[ 0.  20.6 14.4 ... 46.5 19.6 -1. ]\n",
      " [ 1.  13.3 11.1 ... 32.3 11.3 -1. ]\n",
      " [ 0.  16.7 14.3 ... 37.  14.7  1. ]\n",
      " ...\n",
      " [ 1.   8.8  7.7 ... 20.8  7.4 -1. ]\n",
      " [ 1.  16.2 15.2 ... 40.1 13.9  1. ]\n",
      " [ 0.  15.6 14.  ... 35.3 13.8  1. ]]\n"
     ]
    }
   ],
   "source": [
    "import numpy as np\n",
    "import download_data as dl\n",
    "import matplotlib.pyplot as plt\n",
    "import sklearn.svm as svm\n",
    "from sklearn import metrics\n",
    "from conf_matrix import func_confusion_matrix\n",
    "from sklearn.model_selection import train_test_split\n",
    "\n",
    "## step 1: load data from csv file. \n",
    "data = dl.download_data('crab.csv').values\n",
    "\n",
    "n = 200\n",
    "#split data \n",
    "S = np.random.permutation(n)\n",
    "#100 training samples\n",
    "Xtr = data[S[:100], :6]\n",
    "Ytr = data[S[:100], 6:]\n",
    "# 100 testing samples\n",
    "X_test = data[S[100:], :6]\n",
    "Y_test = data[S[100:], 6:].ravel()\n",
    "\n",
    "\n",
    "print(data)"
   ]
  },
  {
   "cell_type": "code",
   "execution_count": 5,
   "metadata": {},
   "outputs": [],
   "source": [
    "## step 2 randomly split Xtr/Ytr into two even subsets: use one for training, another for validation.\n",
    "\n",
    "#############placeholder 1: training/validation #######################\n",
    "x_train,x_validation,y_train,y_validation = train_test_split(Xtr,Ytr,test_size=0.5)\n",
    "\n",
    "#############placeholder end #######################\n",
    "\n"
   ]
  },
  {
   "cell_type": "code",
   "execution_count": 8,
   "metadata": {},
   "outputs": [
    {
     "name": "stderr",
     "output_type": "stream",
     "text": [
      "C:\\Users\\Pujan2\\Anaconda2\\lib\\site-packages\\sklearn\\utils\\validation.py:578: DataConversionWarning: A column-vector y was passed when a 1d array was expected. Please change the shape of y to (n_samples, ), for example using ravel().\n",
      "  y = column_or_1d(y, warn=True)\n"
     ]
    },
    {
     "data": {
      "image/png": "[encoded data removed]",
      "text/plain": [
       "<Figure size 432x288 with 1 Axes>"
      ]
     },
     "metadata": {
      "needs_background": "light"
     },
     "output_type": "display_data"
    }
   ],
   "source": [
    "## step 3 Model selection over validation set\n",
    "# consider the parameters C, kernel types (linear, RBF etc.) and kernel\n",
    "# parameters if applicable. \n",
    "\n",
    "\n",
    "# 3.1 Plot the validation errors while using different values of C ( with other hyperparameters fixed) \n",
    "#  keeping kernel = \"linear\"\n",
    "#############placeholder 2: Figure 1#######################\n",
    "c_range =  range(1,20)\n",
    "svm_c_error = []\n",
    "for c_value in c_range:\n",
    "    model = svm.SVC(kernel='linear', C=c_value)\n",
    "    model.fit(X=x_train, y=y_train)\n",
    "    error = 1. - model.score(x_validation, y_validation)\n",
    "    svm_c_error.append(error)\n",
    "plt.plot(c_range, svm_c_error)\n",
    "plt.title('Linear SVM')\n",
    "plt.xlabel('c values')\n",
    "plt.ylabel('error')\n",
    "#plt.xticks(c_range)\n",
    "plt.show()\n",
    "#############placeholder end #######################"
   ]
  },
  {
   "cell_type": "code",
   "execution_count": 10,
   "metadata": {},
   "outputs": [
    {
     "name": "stderr",
     "output_type": "stream",
     "text": [
      "C:\\Users\\Pujan2\\Anaconda2\\lib\\site-packages\\sklearn\\utils\\validation.py:578: DataConversionWarning: A column-vector y was passed when a 1d array was expected. Please change the shape of y to (n_samples, ), for example using ravel().\n",
      "  y = column_or_1d(y, warn=True)\n"
     ]
    },
    {
     "data": {
      "image/png": "[encoded data removed]",
      "text/plain": [
       "<Figure size 432x288 with 1 Axes>"
      ]
     },
     "metadata": {
      "needs_background": "light"
     },
     "output_type": "display_data"
    }
   ],
   "source": [
    "# 3.2 Plot the validation errors while using linear, RBF kernel, or Polynomial kernel ( with other hyperparameters fixed) \n",
    "#############placeholder 3: Figure 2#######################\n",
    "kernel_types = ['linear', 'poly', 'rbf']\n",
    "svm_kernel_error = []\n",
    "for kernel_value in kernel_types:\n",
    "    # your own codes\n",
    "    model = svm.SVC(kernel=kernel_value, C=5)\n",
    "    model.fit(X=x_train, y=y_train)\n",
    "    error = 1. - model.score(x_validation, y_validation) \n",
    "    svm_kernel_error.append(error)\n",
    "\n",
    "plt.plot(kernel_types, svm_kernel_error)\n",
    "plt.title('SVM by Kernels')\n",
    "plt.xlabel('Kernel')\n",
    "plt.ylabel('error')\n",
    "plt.xticks(kernel_types)\n",
    "plt.show()\n",
    "#############placeholder end #######################\n"
   ]
  },
  {
   "cell_type": "code",
   "execution_count": 12,
   "metadata": {},
   "outputs": [
    {
     "name": "stderr",
     "output_type": "stream",
     "text": [
      "C:\\Users\\Pujan2\\Anaconda2\\lib\\site-packages\\sklearn\\utils\\validation.py:578: DataConversionWarning: A column-vector y was passed when a 1d array was expected. Please change the shape of y to (n_samples, ), for example using ravel().\n",
      "  y = column_or_1d(y, warn=True)\n"
     ]
    },
    {
     "data": {
      "text/plain": [
       "SVC(C=5, cache_size=200, class_weight=None, coef0=0.0,\n",
       "  decision_function_shape='ovr', degree=3, gamma='auto', kernel='linear',\n",
       "  max_iter=-1, probability=False, random_state=None, shrinking=True,\n",
       "  tol=0.001, verbose=False)"
      ]
     },
     "execution_count": 12,
     "metadata": {},
     "output_type": "execute_result"
    }
   ],
   "source": [
    "## step 4 Select the best model and apply it over the testing subset \n",
    "#############placeholder 4:testing  #######################\n",
    "\n",
    "best_kernel = 'linear'\n",
    "best_c = 5 # poly had many that were the \"best\"\n",
    "model = svm.SVC(kernel=best_kernel, C=best_c)\n",
    "model.fit(X=x_train, y=y_train)\n",
    "\n",
    "#############placeholder end #######################"
   ]
  },
  {
   "cell_type": "code",
   "execution_count": 32,
   "metadata": {},
   "outputs": [
    {
     "name": "stdout",
     "output_type": "stream",
     "text": [
      "Confusion Matrix: \n",
      "[[45  3]\n",
      " [ 2 50]]\n",
      "Average Accuracy: 0.95\n",
      "Per-Class Precision: [0.95744681 0.94339623]\n",
      "Per-Class Recall: [0.9375     0.96153846]\n",
      "b\n"
     ]
    }
   ],
   "source": [
    "## step 5 evaluate your results in terms of accuracy, real, or precision. \n",
    "\n",
    "#############placeholder 5: metrics #######################\n",
    "\n",
    "y_pred = model.predict(X_test)\n",
    "conf_matrix, accuracy, recall_array, precision_array = func_confusion_matrix(Y_test, y_pred)\n",
    "\n",
    "print(\"Confusion Matrix: \")\n",
    "print(conf_matrix)\n",
    "print(\"Average Accuracy: {}\".format(accuracy))\n",
    "print(\"Per-Class Precision: {}\".format(precision_array))\n",
    "print(\"Per-Class Recall: {}\".format(recall_array))\n",
    "\n",
    "#############placeholder end #######################\n"
   ]
  },
  {
   "cell_type": "code",
   "execution_count": 37,
   "metadata": {},
   "outputs": [
    {
     "name": "stdout",
     "output_type": "stream",
     "text": [
      "Successful examples\n",
      "Y_test: 1.0 y_pred: 1.0\n",
      "Y_test: -1.0 y_pred: -1.0\n",
      "Y_test: -1.0 y_pred: -1.0\n",
      "Y_test: 1.0 y_pred: 1.0\n",
      "Y_test: -1.0 y_pred: -1.0\n",
      "Y_test: -1.0 y_pred: -1.0\n",
      "Y_test: 1.0 y_pred: 1.0\n",
      "Y_test: -1.0 y_pred: -1.0\n",
      "Y_test: 1.0 y_pred: 1.0\n",
      "Y_test: -1.0 y_pred: -1.0\n",
      "Y_test: -1.0 y_pred: -1.0\n",
      "Y_test: 1.0 y_pred: 1.0\n",
      "Y_test: -1.0 y_pred: -1.0\n",
      "Y_test: -1.0 y_pred: -1.0\n",
      "Y_test: -1.0 y_pred: -1.0\n",
      "Y_test: -1.0 y_pred: -1.0\n",
      "Y_test: -1.0 y_pred: -1.0\n",
      "Y_test: -1.0 y_pred: -1.0\n",
      "Y_test: -1.0 y_pred: -1.0\n",
      "Y_test: 1.0 y_pred: 1.0\n",
      "Y_test: -1.0 y_pred: -1.0\n",
      "Y_test: 1.0 y_pred: 1.0\n",
      "Y_test: 1.0 y_pred: 1.0\n",
      "Y_test: 1.0 y_pred: 1.0\n",
      "Y_test: -1.0 y_pred: -1.0\n",
      "Y_test: 1.0 y_pred: 1.0\n",
      "Y_test: 1.0 y_pred: 1.0\n",
      "Y_test: -1.0 y_pred: -1.0\n",
      "Y_test: -1.0 y_pred: -1.0\n",
      "Y_test: 1.0 y_pred: 1.0\n",
      "Y_test: 1.0 y_pred: 1.0\n",
      "Y_test: 1.0 y_pred: 1.0\n",
      "Y_test: -1.0 y_pred: -1.0\n",
      "Y_test: 1.0 y_pred: 1.0\n",
      "Y_test: 1.0 y_pred: 1.0\n",
      "Y_test: 1.0 y_pred: 1.0\n",
      "Y_test: -1.0 y_pred: -1.0\n",
      "Y_test: 1.0 y_pred: 1.0\n",
      "Y_test: -1.0 y_pred: -1.0\n",
      "Y_test: -1.0 y_pred: -1.0\n",
      "Y_test: -1.0 y_pred: -1.0\n",
      "Y_test: -1.0 y_pred: -1.0\n",
      "Y_test: -1.0 y_pred: -1.0\n",
      "Y_test: 1.0 y_pred: 1.0\n",
      "Y_test: 1.0 y_pred: 1.0\n",
      "Y_test: -1.0 y_pred: -1.0\n",
      "Y_test: -1.0 y_pred: -1.0\n",
      "Y_test: 1.0 y_pred: 1.0\n",
      "Y_test: -1.0 y_pred: -1.0\n",
      "Y_test: -1.0 y_pred: -1.0\n",
      "Y_test: 1.0 y_pred: 1.0\n",
      "Y_test: -1.0 y_pred: -1.0\n",
      "Y_test: 1.0 y_pred: 1.0\n",
      "Y_test: -1.0 y_pred: -1.0\n",
      "Y_test: 1.0 y_pred: 1.0\n",
      "Y_test: -1.0 y_pred: -1.0\n",
      "Y_test: -1.0 y_pred: -1.0\n",
      "Y_test: 1.0 y_pred: 1.0\n",
      "Y_test: -1.0 y_pred: -1.0\n",
      "Y_test: 1.0 y_pred: 1.0\n",
      "Y_test: 1.0 y_pred: 1.0\n",
      "Y_test: -1.0 y_pred: -1.0\n",
      "Y_test: 1.0 y_pred: 1.0\n",
      "Y_test: -1.0 y_pred: -1.0\n",
      "Y_test: -1.0 y_pred: -1.0\n",
      "Y_test: 1.0 y_pred: 1.0\n",
      "Y_test: 1.0 y_pred: 1.0\n",
      "Y_test: 1.0 y_pred: 1.0\n",
      "Y_test: 1.0 y_pred: 1.0\n",
      "Y_test: -1.0 y_pred: -1.0\n",
      "Y_test: -1.0 y_pred: -1.0\n",
      "Y_test: -1.0 y_pred: -1.0\n",
      "Y_test: 1.0 y_pred: 1.0\n",
      "Y_test: -1.0 y_pred: -1.0\n",
      "Y_test: 1.0 y_pred: 1.0\n",
      "Y_test: -1.0 y_pred: -1.0\n",
      "Y_test: 1.0 y_pred: 1.0\n",
      "Y_test: 1.0 y_pred: 1.0\n",
      "Y_test: -1.0 y_pred: -1.0\n",
      "Y_test: -1.0 y_pred: -1.0\n",
      "Y_test: -1.0 y_pred: -1.0\n",
      "Y_test: 1.0 y_pred: 1.0\n",
      "Y_test: 1.0 y_pred: 1.0\n",
      "Y_test: -1.0 y_pred: -1.0\n",
      "Y_test: 1.0 y_pred: 1.0\n",
      "Y_test: 1.0 y_pred: 1.0\n",
      "Y_test: 1.0 y_pred: 1.0\n",
      "Y_test: -1.0 y_pred: -1.0\n",
      "Y_test: -1.0 y_pred: -1.0\n",
      "Y_test: -1.0 y_pred: -1.0\n",
      "Y_test: 1.0 y_pred: 1.0\n",
      "Y_test: 1.0 y_pred: 1.0\n",
      "Y_test: -1.0 y_pred: -1.0\n",
      "Y_test: 1.0 y_pred: 1.0\n",
      "Y_test: 1.0 y_pred: 1.0\n",
      "95\n",
      "Failure examples\n",
      "Y_test: 1.0 y_pred: -1.0\n",
      "Y_test: 1.0 y_pred: -1.0\n",
      "Y_test: -1.0 y_pred: 1.0\n",
      "Y_test: 1.0 y_pred: -1.0\n",
      "Y_test: -1.0 y_pred: 1.0\n"
     ]
    }
   ],
   "source": [
    "#############placeholder 6: success and failure examples #######################\n",
    "\n",
    "# Success samples: samples for which you model can correctly predict their labels\n",
    "count = 0\n",
    "print(\"Successful examples\")\n",
    "for i in range(0,100):\n",
    "    if Y_test[i]==y_pred[i]:\n",
    "        print(\"Y_test:\" ,Y_test[i], \"y_pred:\" ,y_pred[i] )\n",
    "        count = count+1\n",
    "\n",
    "# Failure samples: samples for which you model can not correctly predict their labels\n",
    "\n",
    "print(\"Failure examples\")\n",
    "for i in range(0,100):\n",
    "    if Y_test[i]!=y_pred[i]:\n",
    "        print(\"Y_test:\" ,Y_test[i], \"y_pred:\" ,y_pred[i] )\n",
    "\n",
    "        \n",
    "#############placeholder end #######################\n"
   ]
  }
 ],
 "metadata": {
  "kernelspec": {
   "display_name": "Python 3",
   "language": "python",
   "name": "python3"
  },
  "language_info": {
   "codemirror_mode": {
    "name": "ipython",
    "version": 3
   },
   "file_extension": ".py",
   "mimetype": "text/x-python",
   "name": "python",
   "nbconvert_exporter": "python",
   "pygments_lexer": "ipython3",
   "version": "3.6.8"
  }
 },
 "nbformat": 4,
 "nbformat_minor": 2
}
