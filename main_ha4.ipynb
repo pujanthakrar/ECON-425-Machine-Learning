{
 "cells": [
  {
   "cell_type": "code",
   "execution_count": 113,
   "metadata": {},
   "outputs": [],
   "source": [
    "import numpy as np\n",
    "import scipy\n",
    "import matplotlib.pyplot as plt\n",
    "from util import func_confusion_matrix\n",
    "from sklearn.model_selection import train_test_split\n",
    "import keras\n",
    "from keras.datasets import mnist\n",
    "from keras.models import Sequential\n",
    "from keras.layers import Dense\n",
    "from keras.optimizers import RMSprop\n",
    "from keras.utils.np_utils import to_categorical\n",
    "\n",
    "\n",
    "\n",
    "# load (downloaded if needed) the MNIST dataset\n",
    "(x_train, y_train), (x_test, y_test) = mnist.load_data()\n",
    "\n",
    "\n",
    "# transform each image from 28 by28 to a 784 pixel vector\n",
    "pixel_count = x_train.shape[1] * x_train.shape[2]\n",
    "x_train = x_train.reshape(x_train.shape[0], pixel_count).astype('float32')\n",
    "x_test = x_test.reshape(x_test.shape[0], pixel_count).astype('float32')\n",
    "\n",
    "# normalize inputs from gray scale of 0-255 to values between 0-1\n",
    "x_train = x_train / 255\n",
    "x_test = x_test / 255\n",
    "\n"
   ]
  },
  {
   "cell_type": "code",
   "execution_count": 114,
   "metadata": {},
   "outputs": [],
   "source": [
    "#Q1 \n",
    "#further split samples for validation data\n",
    "x_train, x_valid, y_train, y_valid = train_test_split(x_train, y_train, test_size=10000)\n",
    "\n",
    "batch_size = 150\n",
    "num_classes = 10\n",
    "epochs = 13\n",
    "\n",
    "mod1 = Sequential()\n",
    "mod1.add(Dense(150, activation='sigmoid', input_shape=(784,)))\n",
    "mod1.add(Dense(200, activation='relu'))\n",
    "mod1.add(Dense(250, activation='sigmoid'))\n",
    "mod1.add(Dense(num_classes, activation='softmax'))\n",
    "\n",
    "mod2 = Sequential()\n",
    "mod2.add(Dense(100, activation='tanh', input_shape=(784,)))\n",
    "mod2.add(Dense(300, activation='relu'))\n",
    "mod2.add(Dense(240, activation='softmax'))\n",
    "mod2.add(Dense(num_classes, activation='sigmoid'))\n",
    "\n",
    "mod3 = Sequential()\n",
    "mod3.add(Dense(250, activation='relu', input_shape=(784,)))\n",
    "mod3.add(Dense(250, activation='softmax'))\n",
    "mod3.add(Dense(250, activation='relu'))\n",
    "mod3.add(Dense(num_classes, activation='softmax'))\n",
    "\n",
    "\n",
    "\n"
   ]
  },
  {
   "cell_type": "code",
   "execution_count": 115,
   "metadata": {},
   "outputs": [],
   "source": [
    "#compile model \n",
    "mod1.compile(loss='categorical_crossentropy', optimizer=RMSprop(), metrics=['accuracy'])\n",
    "\n",
    "mod2.compile(loss='categorical_crossentropy', optimizer=RMSprop(), metrics=['accuracy'])\n",
    "\n",
    "mod3.compile(loss='categorical_crossentropy', optimizer=RMSprop(), metrics=['accuracy'])\n",
    "\n",
    "y_train = to_categorical(y_train, num_classes=num_classes, dtype='int')\n"
   ]
  },
  {
   "cell_type": "code",
   "execution_count": 116,
   "metadata": {},
   "outputs": [
    {
     "data": {
      "text/plain": [
       "<keras.callbacks.History at 0x24a4ca4f550>"
      ]
     },
     "execution_count": 116,
     "metadata": {},
     "output_type": "execute_result"
    }
   ],
   "source": [
    "#fitting models\n",
    "mod1.fit(x_train,y_train, batch_size=batch_size, epochs=epochs, verbose=0)\n",
    "\n",
    "mod2.fit(x_train,y_train, batch_size=batch_size, epochs=epochs, verbose=0)\n",
    "\n",
    "mod3.fit(x_train,y_train, batch_size=batch_size, epochs=epochs, verbose=0)"
   ]
  },
  {
   "cell_type": "code",
   "execution_count": 117,
   "metadata": {},
   "outputs": [],
   "source": [
    "#predicting using different models \n",
    "\n",
    "y_pred1=mod1.predict_classes(x_test)\n",
    "\n",
    "y_pred2=mod2.predict_classes(x_test)\n",
    "\n",
    "y_pred3=mod3.predict_classes(x_test)\n",
    "\n"
   ]
  },
  {
   "cell_type": "code",
   "execution_count": 123,
   "metadata": {},
   "outputs": [
    {
     "data": {
      "text/plain": [
       "(array([[ 960,    0,    3,    0,    0,    2,   12,    1,    2,    0],\n",
       "        [   0, 1124,    5,    0,    0,    1,    2,    0,    3,    0],\n",
       "        [   2,    0, 1019,    1,    1,    0,    3,    3,    3,    0],\n",
       "        [   0,    1,   15,  974,    0,    5,    1,    7,    7,    0],\n",
       "        [   0,    0,    4,    0,  965,    0,    9,    3,    0,    1],\n",
       "        [   2,    0,    0,    5,    1,  869,   10,    1,    3,    1],\n",
       "        [   1,    3,    0,    0,    3,    6,  945,    0,    0,    0],\n",
       "        [   2,    5,   24,    0,    0,    0,    0,  993,    2,    2],\n",
       "        [   1,    1,   11,    3,    1,    5,    7,    5,  938,    2],\n",
       "        [   1,    6,    1,    7,   25,   10,    1,   12,    7,  939]]),\n",
       " 0.9726,\n",
       " array([0.97959184, 0.99030837, 0.9874031 , 0.96435644, 0.98268839,\n",
       "        0.97421525, 0.98643006, 0.96595331, 0.96303901, 0.93062438]),\n",
       " array([0.99071207, 0.98596491, 0.94177449, 0.98383838, 0.9688755 ,\n",
       "        0.96770601, 0.95454545, 0.96878049, 0.97202073, 0.99365079]))"
      ]
     },
     "execution_count": 123,
     "metadata": {},
     "output_type": "execute_result"
    }
   ],
   "source": [
    "#confusion matrix and evaluation metrics\n",
    "\n",
    "#model 1\n",
    "func_confusion_matrix(y_test, y_pred1)\n"
   ]
  },
  {
   "cell_type": "code",
   "execution_count": 119,
   "metadata": {
    "scrolled": true
   },
   "outputs": [
    {
     "data": {
      "text/plain": [
       "(array([[ 974,    0,    0,    1,    0,    1,    1,    0,    2,    1],\n",
       "        [   0, 1122,    2,    2,    0,    0,    2,    2,    5,    0],\n",
       "        [  11,    2,  974,    4,    3,    0,   22,    4,   10,    2],\n",
       "        [   1,    0,    2,  904,    0,   84,    0,    2,   14,    3],\n",
       "        [   3,    0,    2,    1,  723,    0,    5,    0,    0,  248],\n",
       "        [   5,    0,    0,  354,    1,  515,    4,    0,    8,    5],\n",
       "        [  15,    3,   16,    1,    3,    3,  910,    0,    7,    0],\n",
       "        [   3,    3,   10,    6,    2,    0,    0,  979,    7,   18],\n",
       "        [  12,    0,    3,   19,    1,   11,    1,    0,  921,    6],\n",
       "        [   5,    2,    0,    6,   20,    9,    0,    4,    4,  959]]),\n",
       " 0.8981,\n",
       " array([0.99387755, 0.98854626, 0.94379845, 0.8950495 , 0.73625255,\n",
       "        0.57735426, 0.94989562, 0.95233463, 0.94558522, 0.95044599]),\n",
       " array([0.94655005, 0.99116608, 0.96531219, 0.69645609, 0.96015936,\n",
       "        0.82664526, 0.96296296, 0.98789102, 0.94171779, 0.77214171]))"
      ]
     },
     "execution_count": 119,
     "metadata": {},
     "output_type": "execute_result"
    }
   ],
   "source": [
    "\n",
    "#model 2\n",
    "func_confusion_matrix(y_test, y_pred2)"
   ]
  },
  {
   "cell_type": "code",
   "execution_count": 120,
   "metadata": {},
   "outputs": [
    {
     "data": {
      "text/plain": [
       "(array([[ 969,    0,    2,    0,    1,    1,    2,    1,    3,    1],\n",
       "        [   0, 1130,    2,    0,    0,    0,    1,    0,    2,    0],\n",
       "        [   3,    8, 1003,    2,    0,    0,    4,    5,    7,    0],\n",
       "        [   0,    0,    0,  993,    0,    7,    0,    4,    4,    2],\n",
       "        [   1,    1,    3,    0,  947,    0,    6,    2,    4,   18],\n",
       "        [   2,    0,    0,    6,    1,  872,    4,    0,    6,    1],\n",
       "        [   6,    3,    0,    1,    6,    9,  931,    0,    2,    0],\n",
       "        [   2,    6,    8,    5,    0,    0,    0,  994,    6,    7],\n",
       "        [   1,    0,    2,    6,    3,    3,    2,    2,  951,    4],\n",
       "        [   1,    2,    0,   12,    3,    6,    0,    3,    2,  980]]),\n",
       " 0.977,\n",
       " array([0.98877551, 0.99559471, 0.97189922, 0.98316832, 0.96435845,\n",
       "        0.97757848, 0.97181628, 0.96692607, 0.97638604, 0.97125867]),\n",
       " array([0.98375635, 0.9826087 , 0.98333333, 0.96878049, 0.98543184,\n",
       "        0.97104677, 0.98      , 0.98318497, 0.96352584, 0.96742349]))"
      ]
     },
     "execution_count": 120,
     "metadata": {},
     "output_type": "execute_result"
    }
   ],
   "source": [
    "\n",
    "#model 3\n",
    "func_confusion_matrix(y_test, y_pred3)\n"
   ]
  },
  {
   "cell_type": "code",
   "execution_count": 121,
   "metadata": {},
   "outputs": [
    {
     "data": {
      "text/plain": [
       "(array([[ 969,    1,    5,    0,    0,    2,    0,    0,    1,    2],\n",
       "        [   0, 1126,    1,    1,    1,    0,    0,    3,    2,    0],\n",
       "        [   2,    8,  943,    6,    1,    3,    1,    4,    5,    1],\n",
       "        [   2,    2,    4, 1014,    0,   17,    0,    2,    5,    1],\n",
       "        [   0,    2,    1,    1,  968,    0,    4,    3,    3,   34],\n",
       "        [   0,    3,    0,    8,    2,  846,    2,    0,    6,    2],\n",
       "        [   3,    4,    2,    1,    3,    1,  975,    0,    1,    0],\n",
       "        [   1,    2,    8,    2,    2,    0,    0, 1055,    0,   10],\n",
       "        [   3,    0,    5,    6,    1,    6,    4,    2,  936,    6],\n",
       "        [   1,    2,    0,   12,    4,    3,    0,    3,    3,  913]]),\n",
       " 0.9745,\n",
       " array([0.98877551, 0.99294533, 0.96817248, 0.96848138, 0.95275591,\n",
       "        0.9735328 , 0.98484848, 0.97685185, 0.96594427, 0.97024442]),\n",
       " array([0.98776758, 0.97913043, 0.97316821, 0.96479543, 0.98574338,\n",
       "        0.96355353, 0.98884381, 0.98414179, 0.97297297, 0.94220846]))"
      ]
     },
     "execution_count": 121,
     "metadata": {},
     "output_type": "execute_result"
    }
   ],
   "source": [
    "#Question 2\n",
    "#running model 3 over validation set \n",
    "y_pred3_val=mod3.predict_classes(x_valid)\n",
    "\n",
    "func_confusion_matrix(y_valid, y_pred3_val)\n"
   ]
  },
  {
   "cell_type": "code",
   "execution_count": 122,
   "metadata": {},
   "outputs": [
    {
     "name": "stdout",
     "output_type": "stream",
     "text": [
      "Failed case at index # 54 :\n",
      "predicted: 9  true: 2\n"
     ]
    },
    {
     "data": {
      "image/png": "[encoded data removed]",
      "text/plain": [
       "<Figure size 432x288 with 1 Axes>"
      ]
     },
     "metadata": {
      "needs_background": "light"
     },
     "output_type": "display_data"
    },
    {
     "name": "stdout",
     "output_type": "stream",
     "text": [
      "Failed case at index # 74 :\n",
      "predicted: 2  true: 0\n"
     ]
    },
    {
     "data": {
      "image/png": "[encoded data removed]",
      "text/plain": [
       "<Figure size 432x288 with 1 Axes>"
      ]
     },
     "metadata": {
      "needs_background": "light"
     },
     "output_type": "display_data"
    },
    {
     "name": "stdout",
     "output_type": "stream",
     "text": [
      "Failed case at index # 75 :\n",
      "predicted: 1  true: 6\n"
     ]
    },
    {
     "data": {
      "image/png": "[encoded data removed]",
      "text/plain": [
       "<Figure size 432x288 with 1 Axes>"
      ]
     },
     "metadata": {
      "needs_background": "light"
     },
     "output_type": "display_data"
    },
    {
     "name": "stdout",
     "output_type": "stream",
     "text": [
      "Failed case at index # 113 :\n",
      "predicted: 5  true: 2\n"
     ]
    },
    {
     "data": {
      "image/png": "[encoded data removed]",
      "text/plain": [
       "<Figure size 432x288 with 1 Axes>"
      ]
     },
     "metadata": {
      "needs_background": "light"
     },
     "output_type": "display_data"
    },
    {
     "name": "stdout",
     "output_type": "stream",
     "text": [
      "Failed case at index # 155 :\n",
      "predicted: 8  true: 4\n"
     ]
    },
    {
     "data": {
      "image/png": "[encoded data removed]",
      "text/plain": [
       "<Figure size 432x288 with 1 Axes>"
      ]
     },
     "metadata": {
      "needs_background": "light"
     },
     "output_type": "display_data"
    },
    {
     "name": "stdout",
     "output_type": "stream",
     "text": [
      "Failed case at index # 165 :\n",
      "predicted: 1  true: 5\n"
     ]
    },
    {
     "data": {
      "image/png": "[encoded data removed]",
      "text/plain": [
       "<Figure size 432x288 with 1 Axes>"
      ]
     },
     "metadata": {
      "needs_background": "light"
     },
     "output_type": "display_data"
    },
    {
     "name": "stdout",
     "output_type": "stream",
     "text": [
      "Failed case at index # 200 :\n",
      "predicted: 8  true: 1\n"
     ]
    },
    {
     "data": {
      "image/png": "[encoded data removed]",
      "text/plain": [
       "<Figure size 432x288 with 1 Axes>"
      ]
     },
     "metadata": {
      "needs_background": "light"
     },
     "output_type": "display_data"
    },
    {
     "name": "stdout",
     "output_type": "stream",
     "text": [
      "Failed case at index # 212 :\n",
      "predicted: 2  true: 3\n"
     ]
    },
    {
     "data": {
      "image/png": "[encoded data removed]",
      "text/plain": [
       "<Figure size 432x288 with 1 Axes>"
      ]
     },
     "metadata": {
      "needs_background": "light"
     },
     "output_type": "display_data"
    },
    {
     "name": "stdout",
     "output_type": "stream",
     "text": [
      "Failed case at index # 295 :\n",
      "predicted: 6  true: 8\n"
     ]
    },
    {
     "data": {
      "image/png": "[encoded data removed]",
      "text/plain": [
       "<Figure size 432x288 with 1 Axes>"
      ]
     },
     "metadata": {
      "needs_background": "light"
     },
     "output_type": "display_data"
    },
    {
     "name": "stdout",
     "output_type": "stream",
     "text": [
      "Failed case at index # 332 :\n",
      "predicted: 3  true: 9\n"
     ]
    },
    {
     "data": {
      "image/png": "[encoded data removed]",
      "text/plain": [
       "<Figure size 432x288 with 1 Axes>"
      ]
     },
     "metadata": {
      "needs_background": "light"
     },
     "output_type": "display_data"
    }
   ],
   "source": [
    "#select and visualize TEN testing images for which your mode made wrong predications.\n",
    "#Try to analyze the reasons of these failure cases. \n",
    "\n",
    "#failure cases\n",
    "\n",
    "failure = []\n",
    "for j in range(10000):\n",
    "    if (y_pred3_val[j] != y_valid[j]):\n",
    "        failure.append(j)\n",
    "        print(\"Failed case at index #\",j,\":\")\n",
    "        print(\"predicted:\",y_pred3_val[j],\" true:\",y_valid[j])\n",
    "        plt.imshow(x_valid[j].reshape(28,28),cmap='gray')\n",
    "        plt.show()\n",
    "    if (len(failure)>=10):\n",
    "        break\n",
    "            \n",
    "\n"
   ]
  }
 ],
 "metadata": {
  "kernelspec": {
   "display_name": "Python 3",
   "language": "python",
   "name": "python3"
  },
  "language_info": {
   "codemirror_mode": {
    "name": "ipython",
    "version": 3
   },
   "file_extension": ".py",
   "mimetype": "text/x-python",
   "name": "python",
   "nbconvert_exporter": "python",
   "pygments_lexer": "ipython3",
   "version": "3.6.8"
  }
 },
 "nbformat": 4,
 "nbformat_minor": 2
}
